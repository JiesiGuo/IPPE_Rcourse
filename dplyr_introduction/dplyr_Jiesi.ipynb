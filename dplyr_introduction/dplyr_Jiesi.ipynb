{
 "metadata": {},
 "nbformat": 3,
 "nbformat_minor": 0,
 "worksheets": [
  {
   "cells": [
    {
     "cell_type": "code",
     "collapsed": false,
     "input": [
      "%load_ext rmagic"
     ],
     "language": "python",
     "metadata": {},
     "outputs": [],
     "prompt_number": 1
    },
    {
     "cell_type": "markdown",
     "metadata": {},
     "source": [
      "---\n",
      "title: \"Introduction to dplyr -  make data manipulation easier\"\n",
      "output: html_document\n",
      "---\n",
      "\n",
      "## Description of dplyr\n",
      "* created by Hadley Wickham (Chief Scientist of Rstudio, author of `ggplot`, `tidyr`, `broom`)\n",
      "* Great for data exploration and transformation\n",
      "* Intuitive to write and easy to read, especially when using the \"chaining (%>%)\" syntax \n",
      "* Faster than basic R approach\n",
      "\n",
      "## dplyr functionality\n",
      "* Five basic verbs: `filter`, `select`, `arrange`, `mutate`, `summarise` (plus `group_by`)\n",
      "* Lots of handy functions (i.e., `mutate_each`, `summarise_each`, `n_distinct`,`sample_n`)\n",
      "* Joining (merging) data frames: `left_join`, `right_join`, `inner_join`, `full_join`, `semi_join`, `anti_join`\n",
      "* [Window function](http://cran.r-project.org/web/packages/dplyr/vignettes/window-functions.html) for calculating ranking(like `min_rank`), offsets(`lead` and `lag`), and more (not covered below; see [vignette for window-functions](https://github.com/hadley/dplyr/blob/master/vignettes/window-functions.Rmd))\n",
      "* Connecting to Databases using SQLite, PostgreSQL/Redshift, MySQL/MariaDB, BigQuery, MonetDB (not covered below; see [vignette for database](http://rpubs.com/justmarkham/dplyr-tutorial))\n",
      "\n",
      "\n",
      "\n",
      "* load packages and an example dataset"
     ]
    },
    {
     "cell_type": "code",
     "collapsed": false,
     "input": [
      "%%R\n",
      "library(dplyr)\n",
      "pisa<-read.csv(\"PISA12-AUS-motivation.csv\", stringsAsFactors = FALSE)"
     ],
     "language": "python",
     "metadata": {},
     "outputs": [
      {
       "output_type": "display_data",
       "text": [
        "\n",
        "Attaching package: \u2018dplyr\u2019\n",
        "\n",
        "The following object is masked from \u2018package:stats\u2019:\n",
        "\n",
        "    filter\n",
        "\n",
        "The following objects are masked from \u2018package:base\u2019:\n",
        "\n",
        "    intersect, setdiff, setequal, union\n",
        "\n"
       ]
      }
     ],
     "prompt_number": 2
    },
    {
     "cell_type": "markdown",
     "metadata": {},
     "source": [
      "* `tbl_df` creates a \"local data frame\"\n",
      "* Local data frame is simply a wrapper for a data frame that is easier to examine."
     ]
    },
    {
     "cell_type": "code",
     "collapsed": false,
     "input": [
      "%%R\n",
      "# convert to local data frame\n",
      "pisa <- tbl_df(pisa)\n",
      "# printing only shows 10 rows and as many columns as can fit on your screen\n",
      "pisa"
     ],
     "language": "python",
     "metadata": {},
     "outputs": [
      {
       "output_type": "display_data",
       "text": [
        "Source: local data frame [14,481 x 37]\n",
        "\n",
        "   SCHOOLID Schtype State StIDStd Gender ST42Q02 ST42Q04 ST42Q06 ST42Q07\n",
        "1         1       3   VIC       1      0       4       2       1       2\n",
        "2         1       3   VIC       2      0       4       1       2       2\n",
        "3         1       3   VIC       3      0      NA      NA      NA      NA\n",
        "4         1       3   VIC       4      1      NA      NA      NA      NA\n",
        "5         1       3   VIC       5      1       3       3       2       2\n",
        "6         1       3   VIC       6      0       4       1       1       1\n",
        "7         1       3   VIC       7      0       3       2       3       3\n",
        "8         1       3   VIC       8      1       4       1       2       1\n",
        "9         1       3   VIC       9      1       3       2       2       2\n",
        "10        1       3   VIC      10      1       3       2       2       2\n",
        "..      ...     ...   ...     ...    ...     ...     ...     ...     ...\n",
        "Variables not shown: ST29Q01 (int), ST29Q03 (int), ST29Q04 (int), ST29Q06\n",
        "  (int), ST29Q02 (int), ST29Q05 (int), ST29Q07 (int), ST29Q08 (int), ANXMAT\n",
        "  (dbl), ESCS (dbl), INSTMOT (dbl), INTMAT (dbl), MATBEH (dbl), MATHEFF (dbl),\n",
        "  MATINTFC (dbl), MATWKETH (dbl), OPENPS (dbl), PERSEV (dbl), SCMAT (dbl),\n",
        "  SUBNORM (dbl), PV1MATH (dbl), PV1READ (dbl), PV1SCIE (dbl), ST48Q01 (int),\n",
        "  ST48Q02 (int), ST48Q03 (int), ST48Q04 (int), ST48Q05 (int)\n"
       ]
      }
     ],
     "prompt_number": 3
    },
    {
     "cell_type": "markdown",
     "metadata": {},
     "source": [
      "### Viewing printing more output"
     ]
    },
    {
     "cell_type": "code",
     "collapsed": false,
     "input": [
      "%%R\n",
      "# you can specify that you want to see more rows\n",
      "print(pisa, n=20)\n",
      "# specify that you want to see ALL rows (don't run this!)\n",
      "#print(pisa, n = Inf)\n",
      "# specify that you want to see ALL columns\n",
      "#print(pisa, width = Inf)\n",
      "# convert to a normal data frame to see all of the columns\n",
      "#data.frame(head(pisa))\n",
      "\n",
      "# set option to set numbers of columns and rows you want to see\n",
      "options(dplyr.width = 20, dplyr.print_min = 20)\n",
      "# reset options (or just close R)\n",
      "options(dplyr.width = NULL, dplyr.print_min = 10)"
     ],
     "language": "python",
     "metadata": {},
     "outputs": [
      {
       "output_type": "display_data",
       "text": [
        "Source: local data frame [14,481 x 37]\n",
        "\n",
        "   SCHOOLID Schtype State StIDStd Gender ST42Q02 ST42Q04 ST42Q06 ST42Q07\n",
        "1         1       3   VIC       1      0       4       2       1       2\n",
        "2         1       3   VIC       2      0       4       1       2       2\n",
        "3         1       3   VIC       3      0      NA      NA      NA      NA\n",
        "4         1       3   VIC       4      1      NA      NA      NA      NA\n",
        "5         1       3   VIC       5      1       3       3       2       2\n",
        "6         1       3   VIC       6      0       4       1       1       1\n",
        "7         1       3   VIC       7      0       3       2       3       3\n",
        "8         1       3   VIC       8      1       4       1       2       1\n",
        "9         1       3   VIC       9      1       3       2       2       2\n",
        "10        1       3   VIC      10      1       3       2       2       2\n",
        "11        1       3   VIC      11      0      NA      NA      NA      NA\n",
        "12        1       3   VIC      12      0      NA      NA      NA      NA\n",
        "13        1       3   VIC      13      0       1       4       4       4\n",
        "14        1       3   VIC      14      0       4       1       1       1\n",
        "15        1       3   VIC      15      0       3       2       2       3\n",
        "16        1       3   VIC      16      1       3       3       2       2\n",
        "17        2       2   NSW      17      0       4       2       2       3\n",
        "18        2       2   NSW      18      0       3       1       1       2\n",
        "19        2       2   NSW      19      0       3       2       2       3\n",
        "20        2       2   NSW      20      1       1       4       4       4\n",
        "..      ...     ...   ...     ...    ...     ...     ...     ...     ...\n",
        "Variables not shown: ST29Q01 (int), ST29Q03 (int), ST29Q04 (int), ST29Q06\n",
        "  (int), ST29Q02 (int), ST29Q05 (int), ST29Q07 (int), ST29Q08 (int), ANXMAT\n",
        "  (dbl), ESCS (dbl), INSTMOT (dbl), INTMAT (dbl), MATBEH (dbl), MATHEFF (dbl),\n",
        "  MATINTFC (dbl), MATWKETH (dbl), OPENPS (dbl), PERSEV (dbl), SCMAT (dbl),\n",
        "  SUBNORM (dbl), PV1MATH (dbl), PV1READ (dbl), PV1SCIE (dbl), ST48Q01 (int),\n",
        "  ST48Q02 (int), ST48Q03 (int), ST48Q04 (int), ST48Q05 (int)\n"
       ]
      }
     ],
     "prompt_number": 4
    },
    {
     "cell_type": "markdown",
     "metadata": {},
     "source": [
      "## filter: Keep rows matching criteria\n",
      "\n",
      "* dplyr approach is simpler to write and read\n",
      "* Command structure (for all dplyr verbs):\n",
      "    * first argument is a data frame\n",
      "    * return value is a data frame\n",
      "    * nothing is modified in place"
     ]
    },
    {
     "cell_type": "code",
     "collapsed": false,
     "input": [
      "%%R\n",
      "# base R approach to view all students in catholic school in NSW\n",
      "pisa[pisa$Schtype==1 & pisa$State==\"NSW\", ]# Base R approach forces you to repeat the data frame's name\n",
      "# schtype: 1. catholic, 2. government, 3. independent"
     ],
     "language": "python",
     "metadata": {},
     "outputs": [
      {
       "output_type": "display_data",
       "text": [
        "Source: local data frame [828 x 37]\n",
        "\n",
        "   SCHOOLID Schtype State StIDStd Gender ST42Q02 ST42Q04 ST42Q06 ST42Q07\n",
        "1        12       1   NSW     200      0       2       3       3       4\n",
        "2        12       1   NSW     201      1      NA      NA      NA      NA\n",
        "3        12       1   NSW     202      1       2       3       3       4\n",
        "4        12       1   NSW     203      1      NA      NA      NA      NA\n",
        "5        12       1   NSW     204      1      NA      NA      NA      NA\n",
        "6        12       1   NSW     205      1      NA      NA      NA      NA\n",
        "7        12       1   NSW     206      1       3       3       3       3\n",
        "8        12       1   NSW     207      1       3       3       3       3\n",
        "9        12       1   NSW     208      1       2       3       4       4\n",
        "10       12       1   NSW     209      1       3       2       3       2\n",
        "..      ...     ...   ...     ...    ...     ...     ...     ...     ...\n",
        "Variables not shown: ST29Q01 (int), ST29Q03 (int), ST29Q04 (int), ST29Q06\n",
        "  (int), ST29Q02 (int), ST29Q05 (int), ST29Q07 (int), ST29Q08 (int), ANXMAT\n",
        "  (dbl), ESCS (dbl), INSTMOT (dbl), INTMAT (dbl), MATBEH (dbl), MATHEFF (dbl),\n",
        "  MATINTFC (dbl), MATWKETH (dbl), OPENPS (dbl), PERSEV (dbl), SCMAT (dbl),\n",
        "  SUBNORM (dbl), PV1MATH (dbl), PV1READ (dbl), PV1SCIE (dbl), ST48Q01 (int),\n",
        "  ST48Q02 (int), ST48Q03 (int), ST48Q04 (int), ST48Q05 (int)\n"
       ]
      }
     ],
     "prompt_number": 5
    },
    {
     "cell_type": "code",
     "collapsed": false,
     "input": [
      "%%R\n",
      "# dplyr approach\n",
      "filter(pisa, Schtype==1, State==\"NSW\") # using comma or ampersand to represent AND condition "
     ],
     "language": "python",
     "metadata": {},
     "outputs": [
      {
       "output_type": "display_data",
       "text": [
        "Source: local data frame [828 x 37]\n",
        "\n",
        "   SCHOOLID Schtype State StIDStd Gender ST42Q02 ST42Q04 ST42Q06 ST42Q07\n",
        "1        12       1   NSW     200      0       2       3       3       4\n",
        "2        12       1   NSW     201      1      NA      NA      NA      NA\n",
        "3        12       1   NSW     202      1       2       3       3       4\n",
        "4        12       1   NSW     203      1      NA      NA      NA      NA\n",
        "5        12       1   NSW     204      1      NA      NA      NA      NA\n",
        "6        12       1   NSW     205      1      NA      NA      NA      NA\n",
        "7        12       1   NSW     206      1       3       3       3       3\n",
        "8        12       1   NSW     207      1       3       3       3       3\n",
        "9        12       1   NSW     208      1       2       3       4       4\n",
        "10       12       1   NSW     209      1       3       2       3       2\n",
        "..      ...     ...   ...     ...    ...     ...     ...     ...     ...\n",
        "Variables not shown: ST29Q01 (int), ST29Q03 (int), ST29Q04 (int), ST29Q06\n",
        "  (int), ST29Q02 (int), ST29Q05 (int), ST29Q07 (int), ST29Q08 (int), ANXMAT\n",
        "  (dbl), ESCS (dbl), INSTMOT (dbl), INTMAT (dbl), MATBEH (dbl), MATHEFF (dbl),\n",
        "  MATINTFC (dbl), MATWKETH (dbl), OPENPS (dbl), PERSEV (dbl), SCMAT (dbl),\n",
        "  SUBNORM (dbl), PV1MATH (dbl), PV1READ (dbl), PV1SCIE (dbl), ST48Q01 (int),\n",
        "  ST48Q02 (int), ST48Q03 (int), ST48Q04 (int), ST48Q05 (int)\n"
       ]
      }
     ],
     "prompt_number": 6
    },
    {
     "cell_type": "code",
     "collapsed": false,
     "input": [
      "%%R\n",
      "# to view all students in NSW and VIC \n",
      "filter (pisa, State==\"NSW\" | State==\"VIC\") # using pipe to present OR condition\n",
      "# you can also use %in% operator\n",
      "filter (pisa, State %in% c(\"NSW\", \"VIC\"))"
     ],
     "language": "python",
     "metadata": {},
     "outputs": [
      {
       "output_type": "display_data",
       "text": [
        "Source: local data frame [5,853 x 37]\n",
        "\n",
        "   SCHOOLID Schtype State StIDStd Gender ST42Q02 ST42Q04 ST42Q06 ST42Q07\n",
        "1         1       3   VIC       1      0       4       2       1       2\n",
        "2         1       3   VIC       2      0       4       1       2       2\n",
        "3         1       3   VIC       3      0      NA      NA      NA      NA\n",
        "4         1       3   VIC       4      1      NA      NA      NA      NA\n",
        "5         1       3   VIC       5      1       3       3       2       2\n",
        "6         1       3   VIC       6      0       4       1       1       1\n",
        "7         1       3   VIC       7      0       3       2       3       3\n",
        "8         1       3   VIC       8      1       4       1       2       1\n",
        "9         1       3   VIC       9      1       3       2       2       2\n",
        "10        1       3   VIC      10      1       3       2       2       2\n",
        "..      ...     ...   ...     ...    ...     ...     ...     ...     ...\n",
        "Variables not shown: ST29Q01 (int), ST29Q03 (int), ST29Q04 (int), ST29Q06\n",
        "  (int), ST29Q02 (int), ST29Q05 (int), ST29Q07 (int), ST29Q08 (int), ANXMAT\n",
        "  (dbl), ESCS (dbl), INSTMOT (dbl), INTMAT (dbl), MATBEH (dbl), MATHEFF (dbl),\n",
        "  MATINTFC (dbl), MATWKETH (dbl), OPENPS (dbl), PERSEV (dbl), SCMAT (dbl),\n",
        "  SUBNORM (dbl), PV1MATH (dbl), PV1READ (dbl), PV1SCIE (dbl), ST48Q01 (int),\n",
        "  ST48Q02 (int), ST48Q03 (int), ST48Q04 (int), ST48Q05 (int)\n"
       ]
      }
     ],
     "prompt_number": 7
    },
    {
     "cell_type": "markdown",
     "metadata": {},
     "source": [
      "* other examples for selecting columns"
     ]
    },
    {
     "cell_type": "code",
     "collapsed": false,
     "input": [
      "%%R\n",
      "# between() is a concise alternative for determing if numeric values fall in a range\n",
      "# to view students having math scores from 300 to 500\n",
      "filter(pisa, between(PV1MATH, 300, 500))\n",
      "\n",
      "# is.na() can also be useful when filtering\n",
      "# remove missing value from ST42Q02\n",
      "filter(pisa, !is.na(ST42Q02))"
     ],
     "language": "python",
     "metadata": {},
     "outputs": [
      {
       "output_type": "display_data",
       "text": [
        "Source: local data frame [9,287 x 37]\n",
        "\n",
        "   SCHOOLID Schtype State StIDStd Gender ST42Q02 ST42Q04 ST42Q06 ST42Q07\n",
        "1         1       3   VIC       1      0       4       2       1       2\n",
        "2         1       3   VIC       2      0       4       1       2       2\n",
        "3         1       3   VIC       5      1       3       3       2       2\n",
        "4         1       3   VIC       6      0       4       1       1       1\n",
        "5         1       3   VIC       7      0       3       2       3       3\n",
        "6         1       3   VIC       8      1       4       1       2       1\n",
        "7         1       3   VIC       9      1       3       2       2       2\n",
        "8         1       3   VIC      10      1       3       2       2       2\n",
        "9         1       3   VIC      13      0       1       4       4       4\n",
        "10        1       3   VIC      14      0       4       1       1       1\n",
        "..      ...     ...   ...     ...    ...     ...     ...     ...     ...\n",
        "Variables not shown: ST29Q01 (int), ST29Q03 (int), ST29Q04 (int), ST29Q06\n",
        "  (int), ST29Q02 (int), ST29Q05 (int), ST29Q07 (int), ST29Q08 (int), ANXMAT\n",
        "  (dbl), ESCS (dbl), INSTMOT (dbl), INTMAT (dbl), MATBEH (dbl), MATHEFF (dbl),\n",
        "  MATINTFC (dbl), MATWKETH (dbl), OPENPS (dbl), PERSEV (dbl), SCMAT (dbl),\n",
        "  SUBNORM (dbl), PV1MATH (dbl), PV1READ (dbl), PV1SCIE (dbl), ST48Q01 (int),\n",
        "  ST48Q02 (int), ST48Q03 (int), ST48Q04 (int), ST48Q05 (int)\n"
       ]
      }
     ],
     "prompt_number": 8
    },
    {
     "cell_type": "markdown",
     "metadata": {},
     "source": [
      "## select: Pick columns by name"
     ]
    },
    {
     "cell_type": "code",
     "collapsed": false,
     "input": [
      "%%R\n",
      "# base R approach to select school sype, state and math achievement\n",
      "pisa[, c(\"Schtype\", \"State\", \"PV1MATH\")]"
     ],
     "language": "python",
     "metadata": {},
     "outputs": [
      {
       "output_type": "display_data",
       "text": [
        "Source: local data frame [14,481 x 3]\n",
        "\n",
        "   Schtype State  PV1MATH\n",
        "1        3   VIC 561.5439\n",
        "2        3   VIC 564.8154\n",
        "3        3   VIC 507.3298\n",
        "4        3   VIC 601.7370\n",
        "5        3   VIC 520.1823\n",
        "6        3   VIC 586.7035\n",
        "7        3   VIC 659.2226\n",
        "8        3   VIC 656.0290\n",
        "9        3   VIC 487.1553\n",
        "10       3   VIC 613.4990\n",
        "..     ...   ...      ...\n"
       ]
      }
     ],
     "prompt_number": 9
    },
    {
     "cell_type": "code",
     "collapsed": false,
     "input": [
      "%%R\n",
      "# dplyr approach\n",
      "select(pisa, Schtype, State, PV1MATH) "
     ],
     "language": "python",
     "metadata": {},
     "outputs": [
      {
       "output_type": "display_data",
       "text": [
        "Source: local data frame [14,481 x 3]\n",
        "\n",
        "   Schtype State  PV1MATH\n",
        "1        3   VIC 561.5439\n",
        "2        3   VIC 564.8154\n",
        "3        3   VIC 507.3298\n",
        "4        3   VIC 601.7370\n",
        "5        3   VIC 520.1823\n",
        "6        3   VIC 586.7035\n",
        "7        3   VIC 659.2226\n",
        "8        3   VIC 656.0290\n",
        "9        3   VIC 487.1553\n",
        "10       3   VIC 613.4990\n",
        "..     ...   ...      ...\n"
       ]
      }
     ],
     "prompt_number": 10
    },
    {
     "cell_type": "markdown",
     "metadata": {},
     "source": [
      "### other examples for selecting columes by name"
     ]
    },
    {
     "cell_type": "code",
     "collapsed": false,
     "input": [
      "%%R\n",
      "select(pisa, Schtype:PV1MATH)      # From Schtype through PV1MATH.\n",
      "select(pisa, -State, -PV1MATH)     # hide those two variables.\n",
      "select(pisa, contains(\"MAT\"))      # Gets variables containing \"MAT\"\n",
      "select(pisa, starts_with(\"PV\"))    # Gets all vars staring with \"PV\".\n",
      "select(pisa, ends_with(\"MAT\"))     # All vars ending with \"MAT\".\n",
      "select(pisa, matches(\"^ST\\\\d{2}\"))  # Matches any regular expression."
     ],
     "language": "python",
     "metadata": {},
     "outputs": [
      {
       "output_type": "display_data",
       "text": [
        "Source: local data frame [14,481 x 17]\n",
        "\n",
        "   ST42Q02 ST42Q04 ST42Q06 ST42Q07 ST29Q01 ST29Q03 ST29Q04 ST29Q06 ST29Q02\n",
        "1        4       2       1       2      NA      NA      NA      NA      NA\n",
        "2        4       1       2       2      NA      NA      NA      NA      NA\n",
        "3       NA      NA      NA      NA       3       3       3       2       1\n",
        "4       NA      NA      NA      NA       3       3       3       3       2\n",
        "5        3       3       2       2      NA      NA      NA      NA      NA\n",
        "6        4       1       1       1       1       1       1       1       1\n",
        "7        3       2       3       3       4       4       4       3       3\n",
        "8        4       1       2       1       2       2       3       2       1\n",
        "9        3       2       2       2       4       1       1       1       1\n",
        "10       3       2       2       2      NA      NA      NA      NA      NA\n",
        "..     ...     ...     ...     ...     ...     ...     ...     ...     ...\n",
        "Variables not shown: ST29Q05 (int), ST29Q07 (int), ST29Q08 (int), ST48Q01\n",
        "  (int), ST48Q02 (int), ST48Q03 (int), ST48Q04 (int), ST48Q05 (int)\n"
       ]
      }
     ],
     "prompt_number": 11
    },
    {
     "cell_type": "markdown",
     "metadata": {},
     "source": [
      "## \"Chaining\" or \"Pipelining\" - the key feature of dplyr\n",
      "\n",
      "* Can write commands in a natural order by using the `%>%` infix/pipe operator imported from [magrittr](https://github.com/smbache/magrittr) package (which can be pronounced as \"then\")"
     ]
    },
    {
     "cell_type": "code",
     "collapsed": false,
     "input": [
      "%%R\n",
      "# take the thing on the left hand-side and insert it as the first argument on the right hand-side\n",
      "# x %>% f(y) equal to f(x,y)\n",
      "# x %>% f(y) %>% g(z) equal to g(f(x,y),z)"
     ],
     "language": "python",
     "metadata": {},
     "outputs": [
      {
       "output_type": "display_data",
       "text": [
        "NULL\n"
       ]
      }
     ],
     "prompt_number": 12
    },
    {
     "cell_type": "code",
     "collapsed": false,
     "input": [
      "%%R\n",
      "# nesing method to select State and PV1MATH columns and filter for PV1MATH over 600\n",
      "filter(select(pisa, State, PV1MATH), PV1MATH > 600)"
     ],
     "language": "python",
     "metadata": {},
     "outputs": [
      {
       "output_type": "display_data",
       "text": [
        "Source: local data frame [2,075 x 2]\n",
        "\n",
        "   State  PV1MATH\n",
        "1    VIC 601.7370\n",
        "2    VIC 659.2226\n",
        "3    VIC 656.0290\n",
        "4    VIC 613.4990\n",
        "5    VIC 673.1656\n",
        "6    VIC 604.7749\n",
        "7    NSW 608.5138\n",
        "8    ACT 633.3619\n",
        "9    ACT 659.6121\n",
        "10   ACT 615.5242\n",
        "..   ...      ...\n"
       ]
      }
     ],
     "prompt_number": 13
    },
    {
     "cell_type": "code",
     "collapsed": false,
     "input": [
      "%%R\n",
      "# chaining is an alternative way to write your R code\n",
      "pisa %>%\n",
      "    select(State, PV1MATH) %>%\n",
      "    filter(PV1MATH > 600)"
     ],
     "language": "python",
     "metadata": {},
     "outputs": [
      {
       "output_type": "display_data",
       "text": [
        "Source: local data frame [2,075 x 2]\n",
        "\n",
        "   State  PV1MATH\n",
        "1    VIC 601.7370\n",
        "2    VIC 659.2226\n",
        "3    VIC 656.0290\n",
        "4    VIC 613.4990\n",
        "5    VIC 673.1656\n",
        "6    VIC 604.7749\n",
        "7    NSW 608.5138\n",
        "8    ACT 633.3619\n",
        "9    ACT 659.6121\n",
        "10   ACT 615.5242\n",
        "..   ...      ...\n"
       ]
      }
     ],
     "prompt_number": 14
    },
    {
     "cell_type": "markdown",
     "metadata": {},
     "source": [
      "## arrange: Reorder rows"
     ]
    },
    {
     "cell_type": "code",
     "collapsed": false,
     "input": [
      "%%R\n",
      "# base R approach to select State and PV1MATH columns and sort by PV1MATH\n",
      "pisa[order(pisa$PV1MATH), c(\"State\", \"PV1MATH\")]"
     ],
     "language": "python",
     "metadata": {},
     "outputs": [
      {
       "output_type": "display_data",
       "text": [
        "Source: local data frame [14,481 x 2]\n",
        "\n",
        "   State  PV1MATH\n",
        "1     NT  59.6744\n",
        "2     NT  68.0869\n",
        "3     NT 109.4485\n",
        "4     NT 115.4463\n",
        "5     NT 127.5978\n",
        "6     NT 132.5830\n",
        "7     SA 134.9198\n",
        "8     NT 155.1721\n",
        "9     NT 160.0016\n",
        "10    NT 163.8184\n",
        "..   ...      ...\n"
       ]
      }
     ],
     "prompt_number": 15
    },
    {
     "cell_type": "code",
     "collapsed": false,
     "input": [
      "%%R\n",
      "# dplyr approach\n",
      "pisa %>%\n",
      "    select(State, PV1MATH) %>%\n",
      "    arrange(PV1MATH) #use `desc` for descending: arrange(desc(PV1MATH))"
     ],
     "language": "python",
     "metadata": {},
     "outputs": [
      {
       "output_type": "display_data",
       "text": [
        "Source: local data frame [14,481 x 2]\n",
        "\n",
        "   State  PV1MATH\n",
        "1     NT  59.6744\n",
        "2     NT  68.0869\n",
        "3     NT 109.4485\n",
        "4     NT 115.4463\n",
        "5     NT 127.5978\n",
        "6     NT 132.5830\n",
        "7     SA 134.9198\n",
        "8     NT 155.1721\n",
        "9     NT 160.0016\n",
        "10    NT 163.8184\n",
        "..   ...      ...\n"
       ]
      }
     ],
     "prompt_number": 16
    },
    {
     "cell_type": "markdown",
     "metadata": {},
     "source": [
      "## mutate: Add new variables\n",
      "\n",
      "* Create new variables that are functions of existing variables"
     ]
    },
    {
     "cell_type": "code",
     "collapsed": false,
     "input": [
      "%%R\n",
      "# base R approach to create a new variable for differece between students' math achivement and science achievement\n",
      "pisa$diff_ach <- pisa$PV1MATH - pisa$PV1SCIE\n",
      "pisa[, c(\"PV1MATH\", \"PV1SCIE\", \"diff_ach\")]"
     ],
     "language": "python",
     "metadata": {},
     "outputs": [
      {
       "output_type": "display_data",
       "text": [
        "Source: local data frame [14,481 x 3]\n",
        "\n",
        "    PV1MATH  PV1SCIE  diff_ach\n",
        "1  561.5439 583.4950  -21.9511\n",
        "2  564.8154 627.3219  -62.5065\n",
        "3  507.3298 556.1731  -48.8433\n",
        "4  601.7370 668.3514  -66.6144\n",
        "5  520.1823 573.6106  -53.4283\n",
        "6  586.7035 599.0675  -12.3640\n",
        "7  659.2226 751.0630  -91.8404\n",
        "8  656.0290 760.4812 -104.4522\n",
        "9  487.1553 565.9642  -78.8089\n",
        "10 613.4990 638.6050  -25.1060\n",
        "..      ...      ...       ...\n"
       ]
      }
     ],
     "prompt_number": 17
    },
    {
     "cell_type": "code",
     "collapsed": false,
     "input": [
      "%%R\n",
      "# dplyr approach (prints the new variable but does not store it)\n",
      "pisa %>%\n",
      "    select(PV1MATH, PV1SCIE) %>%\n",
      "    mutate(diff_ach = PV1MATH - PV1SCIE)\n",
      "\n",
      "# store the new variable\n",
      "pisa <- pisa %>% mutate(diff_ach = PV1MATH - PV1SCIE) \n",
      "# `transmute` only keeps the new variables\n",
      "pisa %>% transmute(diff_ach = PV1MATH - PV1SCIE) "
     ],
     "language": "python",
     "metadata": {},
     "outputs": [
      {
       "output_type": "display_data",
       "text": [
        "Source: local data frame [14,481 x 1]\n",
        "\n",
        "    diff_ach\n",
        "1   -21.9511\n",
        "2   -62.5065\n",
        "3   -48.8433\n",
        "4   -66.6144\n",
        "5   -53.4283\n",
        "6   -12.3640\n",
        "7   -91.8404\n",
        "8  -104.4522\n",
        "9   -78.8089\n",
        "10  -25.1060\n",
        "..       ...\n"
       ]
      }
     ],
     "prompt_number": 18
    },
    {
     "cell_type": "markdown",
     "metadata": {},
     "source": [
      "## summarise: Reduce variables to values"
     ]
    },
    {
     "cell_type": "code",
     "collapsed": false,
     "input": [
      "%%R\n",
      "# summary the mean of math achievement and math self-concept\n",
      "pisa %>% summarise(mean_math = mean(PV1MATH), mean_msc = mean(SCMAT, na.rm = TRUE))"
     ],
     "language": "python",
     "metadata": {},
     "outputs": [
      {
       "output_type": "display_data",
       "text": [
        "Source: local data frame [1 x 2]\n",
        "\n",
        "  mean_math   mean_msc\n",
        "1  492.8429 0.05038346\n"
       ]
      }
     ],
     "prompt_number": 19
    },
    {
     "cell_type": "markdown",
     "metadata": {},
     "source": [
      "## Combine `mutate` and `summarise` with `group_by`\n",
      "*  `mutate` and `summarise` are primarily useful with data that has been grouped by one or more variables"
     ]
    },
    {
     "cell_type": "code",
     "collapsed": false,
     "input": [
      "%%R\n",
      "# local data frame is the same as the original one except for grouping State\n",
      "pisa %>% group_by(State) "
     ],
     "language": "python",
     "metadata": {},
     "outputs": [
      {
       "output_type": "display_data",
       "text": [
        "Source: local data frame [14,481 x 38]\n",
        "Groups: State\n",
        "\n",
        "   SCHOOLID Schtype State StIDStd Gender ST42Q02 ST42Q04 ST42Q06 ST42Q07\n",
        "1         1       3   VIC       1      0       4       2       1       2\n",
        "2         1       3   VIC       2      0       4       1       2       2\n",
        "3         1       3   VIC       3      0      NA      NA      NA      NA\n",
        "4         1       3   VIC       4      1      NA      NA      NA      NA\n",
        "5         1       3   VIC       5      1       3       3       2       2\n",
        "6         1       3   VIC       6      0       4       1       1       1\n",
        "7         1       3   VIC       7      0       3       2       3       3\n",
        "8         1       3   VIC       8      1       4       1       2       1\n",
        "9         1       3   VIC       9      1       3       2       2       2\n",
        "10        1       3   VIC      10      1       3       2       2       2\n",
        "..      ...     ...   ...     ...    ...     ...     ...     ...     ...\n",
        "Variables not shown: ST29Q01 (int), ST29Q03 (int), ST29Q04 (int), ST29Q06\n",
        "  (int), ST29Q02 (int), ST29Q05 (int), ST29Q07 (int), ST29Q08 (int), ANXMAT\n",
        "  (dbl), ESCS (dbl), INSTMOT (dbl), INTMAT (dbl), MATBEH (dbl), MATHEFF (dbl),\n",
        "  MATINTFC (dbl), MATWKETH (dbl), OPENPS (dbl), PERSEV (dbl), SCMAT (dbl),\n",
        "  SUBNORM (dbl), PV1MATH (dbl), PV1READ (dbl), PV1SCIE (dbl), ST48Q01 (int),\n",
        "  ST48Q02 (int), ST48Q03 (int), ST48Q04 (int), ST48Q05 (int), diff_ach (dbl)\n"
       ]
      }
     ],
     "prompt_number": 20
    },
    {
     "cell_type": "code",
     "collapsed": false,
     "input": [
      "%%R\n",
      "# view the mean of math achievement and self-concept for each state\n",
      "pisa %>% \n",
      "    group_by(State) %>%\n",
      "    summarise(mean_math = mean(PV1MATH), mean_msc = mean(SCMAT, na.rm = TRUE))"
     ],
     "language": "python",
     "metadata": {},
     "outputs": [
      {
       "output_type": "display_data",
       "text": [
        "Source: local data frame [8 x 3]\n",
        "\n",
        "  State mean_math   mean_msc\n",
        "1   ACT  514.2965 0.15679245\n",
        "2   NSW  502.2136 0.03164884\n",
        "3    NT  420.6860 0.10813230\n",
        "4   QLD  489.1140 0.01268922\n",
        "5    SA  483.4552 0.02788955\n",
        "6   TAS  466.6252 0.09225214\n",
        "7   VIC  498.7467 0.04822279\n",
        "8    WA  506.0008 0.07120219\n"
       ]
      }
     ],
     "prompt_number": 21
    },
    {
     "cell_type": "code",
     "collapsed": false,
     "input": [
      "%%R\n",
      "#  view the number of total students and number of distinct schools, for each state based on each school type\n",
      " pisa %>% \n",
      "    group_by(State,Schtype) %>%\n",
      "    summarise(stu_count = n(), school_count = n_distinct(SCHOOLID)) \n",
      "# function `n()` counts the number of rows in a group\n",
      "# function `n_distinct(vector)` counts the number of unique items in that vector"
     ],
     "language": "python",
     "metadata": {},
     "outputs": [
      {
       "output_type": "display_data",
       "text": [
        "Source: local data frame [24 x 4]\n",
        "Groups: State\n",
        "\n",
        "   State Schtype stu_count school_count\n",
        "1    ACT       1       209            8\n",
        "2    ACT       2       501           26\n",
        "3    ACT       3       198           11\n",
        "4    NSW       1       828           43\n",
        "5    NSW       2      2133          113\n",
        "6    NSW       3       486           28\n",
        "7     NT       1        81            5\n",
        "8     NT       2       256           17\n",
        "9     NT       3        92            5\n",
        "10   QLD       1       497           24\n",
        "..   ...     ...       ...          ...\n"
       ]
      }
     ],
     "prompt_number": 22
    },
    {
     "cell_type": "markdown",
     "metadata": {},
     "source": [
      "* `summarise_each` allows you to apply the same summary function to multiple columns at once"
     ]
    },
    {
     "cell_type": "code",
     "collapsed": false,
     "input": [
      "%%R\n",
      "# view  max and min achievement scores of three school subjects (reading, math, science) for each state based on eath school type\n",
      "pisa %>%\n",
      " \tgroup_by(State,Schtype) %>%\n",
      " \tsummarise_each(funs(max, min), PV1MATH:PV1SCIE) %>%\n",
      "  print (width = Inf)\n",
      "# if varibles with missing value, summarise_each(funs(min(., na.rm=TRUE), max(., na.rm=TRUE)), PV1MATH:PV1SCIE))"
     ],
     "language": "python",
     "metadata": {},
     "outputs": [
      {
       "output_type": "display_data",
       "text": [
        "Source: local data frame [24 x 8]\n",
        "Groups: State\n",
        "\n",
        "   State Schtype PV1MATH_max PV1READ_max PV1SCIE_max PV1MATH_min PV1READ_min\n",
        "1    ACT       1    696.6116    717.6424    743.8829    306.2860    284.9128\n",
        "2    ACT       2    757.6024    788.9128    794.3305    229.7165    186.7547\n",
        "3    ACT       3    771.0780    759.3435    833.4017    307.1429    311.9384\n",
        "4    NSW       1    735.4806    748.9183    780.2499    278.2443    250.9104\n",
        "5    NSW       2    848.9718    786.4504    807.2921    194.8980    164.3003\n",
        "6    NSW       3    789.3831    795.0289    830.6043    234.6238    189.2408\n",
        "7     NT       1    615.7579    589.4114    637.5793    163.8184    148.2614\n",
        "8     NT       2    731.6638    678.2654    784.2596     59.6744      3.9113\n",
        "9     NT       3    705.1020    707.0194    765.9828    217.4871    157.9649\n",
        "10   QLD       1    745.6068    761.8296    770.7385    207.6725    209.2092\n",
        "..   ...     ...         ...         ...         ...         ...         ...\n",
        "   PV1SCIE_min\n",
        "1     296.9414\n",
        "2     205.8374\n",
        "3     344.2186\n",
        "4     225.1399\n",
        "5     175.0653\n",
        "6     234.5580\n",
        "7     150.8206\n",
        "8      75.9418\n",
        "9     174.1328\n",
        "10    231.0145\n",
        "..         ...\n"
       ]
      }
     ],
     "prompt_number": 23
    },
    {
     "cell_type": "markdown",
     "metadata": {},
     "source": [
      "* `mutate_each` allows you to apply the same mutate function to multiple columns at once to create new variables"
     ]
    },
    {
     "cell_type": "code",
     "collapsed": false,
     "input": [
      "%%R\n",
      "#for easy presentation, I reduce the size of data set in this case\n",
      "pisa1 <- pisa %>% select (SCHOOLID,SCMAT,PV1MATH:PV1SCIE) \n",
      "# create average school math and science achievement for each student\n",
      "pisa1 %>%\n",
      " \tgroup_by(SCHOOLID) %>% \n",
      " \tmutate_each(funs(mean_ach = mean), -SCMAT, -PV1READ)\n",
      "#Here a small bug: when only 1 function is applied, dplyr will keep the orignal names (replace the existing variales)"
     ],
     "language": "python",
     "metadata": {},
     "outputs": [
      {
       "output_type": "display_data",
       "text": [
        "Source: local data frame [14,481 x 5]\n",
        "Groups: SCHOOLID\n",
        "\n",
        "   SCHOOLID SCMAT  PV1MATH  PV1READ  PV1SCIE\n",
        "1         1  1.12 562.9605 582.3127 626.0922\n",
        "2         1  1.12 562.9605 616.7858 626.0922\n",
        "3         1    NA 562.9605 583.9807 626.0922\n",
        "4         1    NA 562.9605 649.7978 626.0922\n",
        "5         1  0.41 562.9605 554.1258 626.0922\n",
        "6         1  2.26 562.9605 595.0217 626.0922\n",
        "7         1  0.18 562.9605 705.5102 626.0922\n",
        "8         1  1.38 562.9605 701.6837 626.0922\n",
        "9         1  0.65 562.9605 541.8560 626.0922\n",
        "10        1  0.65 562.9605 604.5681 626.0922\n",
        "..      ...   ...      ...      ...      ...\n"
       ]
      }
     ],
     "prompt_number": 24
    },
    {
     "cell_type": "code",
     "collapsed": false,
     "input": [
      "%%R\n",
      "# What you can do to avoid this is specifying names of each variable manually \n",
      "pisa1 %>%\n",
      "\tgroup_by(SCHOOLID) %>% \n",
      "\tmutate_each(funs(mean), mean_math = PV1MATH, mean_scie = PV1SCIE, -SCMAT, -PV1READ) "
     ],
     "language": "python",
     "metadata": {},
     "outputs": [
      {
       "output_type": "display_data",
       "text": [
        "Source: local data frame [14,481 x 7]\n",
        "Groups: SCHOOLID\n",
        "\n",
        "   SCHOOLID SCMAT  PV1MATH  PV1READ  PV1SCIE mean_math mean_scie\n",
        "1         1  1.12 561.5439 582.3127 583.4950  562.9605  626.0922\n",
        "2         1  1.12 564.8154 616.7858 627.3219  562.9605  626.0922\n",
        "3         1    NA 507.3298 583.9807 556.1731  562.9605  626.0922\n",
        "4         1    NA 601.7370 649.7978 668.3514  562.9605  626.0922\n",
        "5         1  0.41 520.1823 554.1258 573.6106  562.9605  626.0922\n",
        "6         1  2.26 586.7035 595.0217 599.0675  562.9605  626.0922\n",
        "7         1  0.18 659.2226 705.5102 751.0630  562.9605  626.0922\n",
        "8         1  1.38 656.0290 701.6837 760.4812  562.9605  626.0922\n",
        "9         1  0.65 487.1553 541.8560 565.9642  562.9605  626.0922\n",
        "10        1  0.65 613.4990 604.5681 638.6050  562.9605  626.0922\n",
        "..      ...   ...      ...      ...      ...       ...       ...\n"
       ]
      }
     ],
     "prompt_number": 25
    },
    {
     "cell_type": "code",
     "collapsed": false,
     "input": [
      "%%R\n",
      "# when 2 functions are applied, variable names works fine\n",
      "# create the standardized and centered scores of each student's reading, math and science achievement \n",
      "pisa1 %>%\n",
      "    mutate_each(funs(std = scale(.), cent = scale(., scale = FALSE)), -SCMAT, -SCHOOLID) %>%\n",
      "    print(width = Inf)"
     ],
     "language": "python",
     "metadata": {},
     "outputs": [
      {
       "output_type": "display_data",
       "text": [
        "Source: local data frame [14,481 x 11]\n",
        "\n",
        "   SCHOOLID SCMAT  PV1MATH  PV1READ  PV1SCIE PV1MATH_std PV1READ_std\n",
        "1         1  1.12 561.5439 582.3127 583.4950   0.6972252   0.8083548\n",
        "2         1  1.12 564.8154 616.7858 627.3219   0.7304266   1.1504118\n",
        "3         1    NA 507.3298 583.9807 556.1731   0.1470234   0.8249054\n",
        "4         1    NA 601.7370 649.7978 668.3514   1.1051322   1.4779711\n",
        "5         1  0.41 520.1823 554.1258 573.6106   0.2774594   0.5286721\n",
        "6         1  2.26 586.7035 595.0217 599.0675   0.9525620   0.9344589\n",
        "7         1  0.18 659.2226 705.5102 751.0630   1.6885354   2.0307736\n",
        "8         1  1.38 656.0290 701.6837 760.4812   1.6561246   1.9928054\n",
        "9         1  0.65 487.1553 541.8560 565.9642  -0.0577212   0.4069259\n",
        "10        1  0.65 613.4990 604.5681 638.6050   1.2245011   1.0291825\n",
        "..      ...   ...      ...      ...      ...         ...         ...\n",
        "   PV1SCIE_std PV1MATH_cent PV1READ_cent PV1SCIE_cent\n",
        "1    0.6981781    68.701045      81.4674      72.2444\n",
        "2    1.1217262    71.972545     115.9405     116.0713\n",
        "3    0.4341362    14.486945      83.1354      44.9225\n",
        "4    1.5182400   108.894145     148.9525     157.1008\n",
        "5    0.6026541    27.339445      53.2805      62.3600\n",
        "6    0.8486725    93.860645      94.1764      87.8169\n",
        "7    2.3175743   166.379745     204.6649     239.8124\n",
        "8    2.4085929   163.186145     200.8384     249.2306\n",
        "9    0.5287585    -5.687555      41.0107      54.7136\n",
        "10   1.2307674   120.656145     103.7228     127.3544\n",
        "..         ...          ...          ...          ...\n"
       ]
      }
     ],
     "prompt_number": 26
    },
    {
     "cell_type": "markdown",
     "metadata": {},
     "source": [
      "## `do` allows you to apply one unnamed argument"
     ]
    },
    {
     "cell_type": "code",
     "collapsed": false,
     "input": [
      "%%R\n",
      "# for each of school type, do simple regression of math achievement on math self-concept \n",
      "pisa %>% \n",
      "  \tgroup_by(Schtype) %>%\n",
      "  \tdo(\n",
      "   \toutput = lm(PV1MATH ~ SCMAT, data = .)\n",
      " \t\t\t) \n",
      "# store to a new local data frame\n",
      "models <- pisa %>% \n",
      "  \t\t\tgroup_by(Schtype) %>%\n",
      "  \t\t\tdo(\n",
      "   \t\t\t output = lm(PV1MATH ~ SCMAT, data = .)\n",
      "          )"
     ],
     "language": "python",
     "metadata": {},
     "outputs": [],
     "prompt_number": 27
    },
    {
     "cell_type": "code",
     "collapsed": false,
     "input": [
      "%%R\n",
      "# create a function to extract path coefficients, standard error, t-value and p-value\n",
      "coef_df <- function(x) {\n",
      "  temp <- coef(summary(x))\n",
      "  colnames(temp) <- c(\"est\", \"se\", \"t\", \"P\")\n",
      "  data.frame(coef = rownames(temp), temp)\n",
      "}\n",
      "models %>% do(coef_df(.$output))"
     ],
     "language": "python",
     "metadata": {},
     "outputs": [
      {
       "output_type": "display_data",
       "text": [
        "Source: local data frame [6 x 5]\n",
        "Groups: <by row>\n",
        "\n",
        "         coef       est       se         t             P\n",
        "1 (Intercept) 502.71251 1.750104 287.24729  0.000000e+00\n",
        "2       SCMAT  42.06617 1.845120  22.79861 2.229305e-102\n",
        "3 (Intercept) 476.36895 1.168895 407.53786  0.000000e+00\n",
        "4       SCMAT  43.62363 1.250909  34.87355 1.722351e-241\n",
        "5 (Intercept) 531.78694 1.947377 273.07860  0.000000e+00\n",
        "6       SCMAT  46.69097 2.010283  23.22607 1.136833e-103\n"
       ]
      }
     ],
     "prompt_number": 28
    },
    {
     "cell_type": "code",
     "collapsed": false,
     "input": [
      "%%R\n",
      "# the easy way to extract similar output by using `tidy` function in `broom` package\n",
      "#install.packages(\"broom\") \n",
      "library(broom)\n",
      "models %>% do(tidy(.$output)) #`tidy` function can be used for different types of regression models"
     ],
     "language": "python",
     "metadata": {},
     "outputs": [
      {
       "output_type": "display_data",
       "text": [
        "Source: local data frame [6 x 5]\n",
        "Groups: <by row>\n",
        "\n",
        "         term  estimate std.error statistic       p.value\n",
        "1 (Intercept) 502.71251  1.750104 287.24729  0.000000e+00\n",
        "2       SCMAT  42.06617  1.845120  22.79861 2.229305e-102\n",
        "3 (Intercept) 476.36895  1.168895 407.53786  0.000000e+00\n",
        "4       SCMAT  43.62363  1.250909  34.87355 1.722351e-241\n",
        "5 (Intercept) 531.78694  1.947377 273.07860  0.000000e+00\n",
        "6       SCMAT  46.69097  2.010283  23.22607 1.136833e-103\n"
       ]
      }
     ],
     "prompt_number": 29
    },
    {
     "cell_type": "markdown",
     "metadata": {},
     "source": [
      "## Joining (merging) data frames"
     ]
    },
    {
     "cell_type": "code",
     "collapsed": false,
     "input": [
      "%%R\n",
      "# create two simple data frames\n",
      "a <- data.frame(color = c(\"black\",\"blue\",\"red\"), number = 4:6, stringsAsFactors = FALSE)\n",
      "b <- data.frame(color = c(\"black\",\"blue\",\"pink\"), size = c(\"S\",\"M\",\"L\"), stringsAsFactors = FALSE)\n",
      "\n",
      "# the three most common joins\n",
      "# only include observations found in both \"a\" and \"b\" (automatically joins on variables that appear in both tables)\n",
      "inner_join(a, b)"
     ],
     "language": "python",
     "metadata": {},
     "outputs": [
      {
       "output_type": "display_data",
       "text": [
        "Joining by: \"color\"\n",
        "  color number size\n",
        "1 black      4    S\n",
        "2  blue      5    M\n"
       ]
      }
     ],
     "prompt_number": 30
    },
    {
     "cell_type": "code",
     "collapsed": false,
     "input": [
      "%%R\n",
      "# include observations found in either \"a\" or \"b\" \n",
      "full_join(a, b)"
     ],
     "language": "python",
     "metadata": {},
     "outputs": [
      {
       "output_type": "display_data",
       "text": [
        "Joining by: \"color\"\n",
        "  color number size\n",
        "1 black      4    S\n",
        "2  blue      5    M\n",
        "3   red      6 <NA>\n",
        "4  pink     NA    L\n"
       ]
      }
     ],
     "prompt_number": 31
    },
    {
     "cell_type": "code",
     "collapsed": false,
     "input": [
      "%%R\n",
      "#include all observations found in \"a\"\n",
      "left_join(a, b)"
     ],
     "language": "python",
     "metadata": {},
     "outputs": [
      {
       "output_type": "display_data",
       "text": [
        "Joining by: \"color\"\n",
        "  color number size\n",
        "1 black      4    S\n",
        "2  blue      5    M\n",
        "3   red      6 <NA>\n"
       ]
      }
     ],
     "prompt_number": 32
    },
    {
     "cell_type": "markdown",
     "metadata": {},
     "source": [
      "* see [vignette for two-tables](https://github.com/hadley/dplyr/blob/master/vignettes/two-table.Rmd) for `right_join`, `left_join`, `semi_join` and `anti_join`\n",
      "\n",
      "## Combining data frames"
     ]
    },
    {
     "cell_type": "code",
     "collapsed": false,
     "input": [
      "%%R\n",
      "# create a simple dataframe\n",
      "mydata <- data.frame(\n",
      "  x = 1:3,\n",
      "  y = c(\"a\", \"b\", \"c\"),\n",
      "  stringsAsFactors = FALSE) "
     ],
     "language": "python",
     "metadata": {},
     "outputs": [],
     "prompt_number": 33
    },
    {
     "cell_type": "code",
     "collapsed": false,
     "input": [
      "%%R\n",
      "# when combinding column-wise,the number of rows must match, but row names are ignored\n",
      "bind_cols(mydata, data.frame(z = 3:1)) \n",
      "# when combinding row-wise, both the number and names of columns much match\n",
      "bind_rows(mydata, data.frame(x = 10, y = \"z\")) "
     ],
     "language": "python",
     "metadata": {},
     "outputs": [
      {
       "output_type": "display_data",
       "text": [
        "Source: local data frame [4 x 2]\n",
        "\n",
        "   x y\n",
        "1  1 a\n",
        "2  2 b\n",
        "3  3 c\n",
        "4 10 z\n"
       ]
      }
     ],
     "prompt_number": 34
    },
    {
     "cell_type": "markdown",
     "metadata": {},
     "source": [
      "* use`rbind_all` to combind multiple data frames like `do.call(rbind, )`\n",
      "\n",
      "## References and Resourse\n",
      "* [dplyr reference manual and vignettes](http://cran.r-project.org/web/packages/dplyr/)\n",
      "* [dplyr tutorial by Hadley Wickham](https://www.dropbox.com/sh/i8qnluwmuieicxc/AAAgt9tIKoIm7WZKIyK25lh6a) at the [useR! 2014 conference](http://user2014.stat.ucla.edu/): excellent, in-depth tutorial with lots of example code (Dropbox link includes slides, code files, and data files)\n",
      "* [dplyr tutorial One by Kevin Markham](https://www.youtube.com/watch?v=jWjqLW-u3hc&list=PL5-da3qGB5IBM6DdZ-ZV8mA0oV0U56xaq)\n",
      "* [dplyr tutorial Two by Kevin Markham](https://www.youtube.com/watch?v=2mh1PqfsXVI&list=PL5-da3qGB5IBM6DdZ-ZV8mA0oV0U56xaq)\n",
      "* [dplyr Cheat Sheet](http://www.rstudio.com/wp-content/uploads/2015/02/data-wrangling-cheatsheet.pdf)\n",
      "* [dplyr GitHub repo](https://github.com/hadley/dplyr)"
     ]
    }
   ],
   "metadata": {}
  }
 ]
}