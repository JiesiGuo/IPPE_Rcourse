{
 "metadata": {},
 "nbformat": 3,
 "nbformat_minor": 0,
 "worksheets": [
  {
   "cells": [
    {
     "cell_type": "code",
     "collapsed": false,
     "input": [
      "%load_ext rmagic"
     ],
     "language": "python",
     "metadata": {},
     "outputs": [],
     "prompt_number": 1
    },
    {
     "cell_type": "markdown",
     "metadata": {},
     "source": [
      "---\n",
      "title: \"EFA_Introduction\"\n",
      "output: html_document\n",
      "---\n",
      "\n",
      "## Exploratory Data Analysis (EFA)\n",
      "\n",
      "### \n",
      "\n",
      "* two types of rotation (orthogonal or oblique roatation) \n",
      "* orthogonal: e.g., _varimax_, _quartimax_, _bentlerT_, _equamax_, _varimin_, _geominT_, _bifactor_, _target_\n",
      "* oblique : e.g., _promax_, _oblimin_, _simplimax_, _bentlerQ, _geominQ_ and _biquartimin_ and _cluster_, _target_\n",
      "* the rotation does not alter the fit of the factor solution"
     ]
    },
    {
     "cell_type": "code",
     "collapsed": false,
     "input": [
      "%%R\n",
      "library(psych)\n",
      "library(dplyr)\n",
      "# data preparation\n",
      "pisa<-read.csv(\"PISA12-AUS-motivation.csv\")\n",
      "pisa_efa<-pisa %>% select (ST42Q02:ST29Q08) # select items measuring math self-concept, intrinsic value and utility value\n",
      "pisa_efa[,2:12] <- apply(pisa_efa[,2:12], 2, function(x) x<- 5-x) # reverse code for nagetively worded items (not necessary)"
     ],
     "language": "python",
     "metadata": {},
     "outputs": [
      {
       "output_type": "display_data",
       "text": [
        "\n",
        "Attaching package: \u2018dplyr\u2019\n",
        "\n",
        "The following object is masked from \u2018package:stats\u2019:\n",
        "\n",
        "    filter\n",
        "\n",
        "The following objects are masked from \u2018package:base\u2019:\n",
        "\n",
        "    intersect, setdiff, setequal, union\n",
        "\n"
       ]
      }
     ],
     "prompt_number": 2
    },
    {
     "cell_type": "markdown",
     "metadata": {},
     "source": [
      "* start with unrotated EFA"
     ]
    },
    {
     "cell_type": "code",
     "collapsed": false,
     "input": [
      "%%R\n",
      "#using raw data and missing data is handled by pairwise (by default)\n",
      "unrotated <- fa(pisa_efa, 3, rotate=\"none\")\n",
      "unrotated[c(\"loadings\",\"score.cor\", \"TLI\", \"RMSEA\")]"
     ],
     "language": "python",
     "metadata": {},
     "outputs": [
      {
       "output_type": "display_data",
       "text": [
        "$loadings\n",
        "\n",
        "Loadings:\n",
        "        MR1    MR2    MR3   \n",
        "ST42Q02  0.660 -0.186  0.413\n",
        "ST42Q04  0.639 -0.165  0.379\n",
        "ST42Q06  0.665 -0.247  0.380\n",
        "ST42Q07  0.732 -0.276  0.291\n",
        "ST29Q01  0.738 -0.164 -0.174\n",
        "ST29Q03  0.796 -0.173 -0.272\n",
        "ST29Q04  0.855 -0.263 -0.239\n",
        "ST29Q06  0.828        -0.147\n",
        "ST29Q02  0.701  0.451       \n",
        "ST29Q05  0.703  0.488       \n",
        "ST29Q07  0.689  0.472       \n",
        "ST29Q08  0.678  0.454       \n",
        "\n",
        "                 MR1   MR2   MR3\n",
        "SS loadings    6.339 1.200 0.731\n",
        "Proportion Var 0.528 0.100 0.061\n",
        "Cumulative Var 0.528 0.628 0.689\n",
        "\n",
        "$<NA>\n",
        "NULL\n",
        "\n",
        "$TLI\n",
        "[1] 0.9839724\n",
        "\n",
        "$RMSEA\n",
        "     RMSEA      lower      upper confidence \n",
        "0.04523403 0.04284491 0.04764259 0.10000000 \n",
        "\n"
       ]
      }
     ],
     "prompt_number": 3
    },
    {
     "cell_type": "markdown",
     "metadata": {},
     "source": [
      "* orthogonal rotation: the factors are constrianed to be uncorrelated (i.e., factors are oriented at 90 degrees angle in multidimensional space)"
     ]
    },
    {
     "cell_type": "code",
     "collapsed": false,
     "input": [
      "%%R\n",
      "out_varimax <- fa(pisa_efa, 3, rotate=\"varimax\")\n",
      "out_varimax[c(\"loadings\", \"score.cor\", \"TLI\", \"RMSEA\")]"
     ],
     "language": "python",
     "metadata": {},
     "outputs": [
      {
       "output_type": "display_data",
       "text": [
        "$loadings\n",
        "\n",
        "Loadings:\n",
        "        MR2   MR3   MR1  \n",
        "ST42Q02 0.227 0.733 0.230\n",
        "ST42Q04 0.231 0.688 0.230\n",
        "ST42Q06 0.177 0.734 0.279\n",
        "ST42Q07 0.188 0.712 0.391\n",
        "ST29Q01 0.270 0.320 0.653\n",
        "ST29Q03 0.291 0.280 0.758\n",
        "ST29Q04 0.251 0.371 0.810\n",
        "ST29Q06 0.398 0.353 0.656\n",
        "ST29Q02 0.764 0.186 0.276\n",
        "ST29Q05 0.798 0.222 0.220\n",
        "ST29Q07 0.777 0.212 0.225\n",
        "ST29Q08 0.756 0.205 0.232\n",
        "\n",
        "                 MR2   MR3   MR1\n",
        "SS loadings    2.945 2.671 2.653\n",
        "Proportion Var 0.245 0.223 0.221\n",
        "Cumulative Var 0.245 0.468 0.689\n",
        "\n",
        "$score.cor\n",
        "          [,1]      [,2]      [,3]\n",
        "[1,] 1.0000000 0.4996774 0.6070132\n",
        "[2,] 0.4996774 1.0000000 0.6650307\n",
        "[3,] 0.6070132 0.6650307 1.0000000\n",
        "\n",
        "$TLI\n",
        "[1] 0.9839724\n",
        "\n",
        "$RMSEA\n",
        "     RMSEA      lower      upper confidence \n",
        "0.04523403 0.04284491 0.04764259 0.10000000 \n",
        "\n"
       ]
      }
     ],
     "prompt_number": 4
    },
    {
     "cell_type": "markdown",
     "metadata": {},
     "source": [
      "* oblique rotation: the factors are allowed to intercorrelated (i.e., permit factor axis orientations of less than 90 degrees)"
     ]
    },
    {
     "cell_type": "code",
     "collapsed": false,
     "input": [
      "%%R\n",
      "out_promax <- fa(pisa_efa, 3, rotate=\"promax\")\n",
      "out_promax[c(\"loadings\", \"score.cor\", \"TLI\", \"RMSEA\")]"
     ],
     "language": "python",
     "metadata": {},
     "outputs": [
      {
       "output_type": "display_data",
       "text": [
        "$loadings\n",
        "\n",
        "Loadings:\n",
        "        MR2    MR1    MR3   \n",
        "ST42Q02                0.820\n",
        "ST42Q04                0.758\n",
        "ST42Q06                0.809\n",
        "ST42Q07         0.189  0.726\n",
        "ST29Q01         0.711       \n",
        "ST29Q03         0.873       \n",
        "ST29Q04         0.922       \n",
        "ST29Q06  0.176  0.658       \n",
        "ST29Q02  0.813              \n",
        "ST29Q05  0.869              \n",
        "ST29Q07  0.843              \n",
        "ST29Q08  0.815              \n",
        "\n",
        "                 MR2   MR1   MR3\n",
        "SS loadings    2.839 2.599 2.449\n",
        "Proportion Var 0.237 0.217 0.204\n",
        "Cumulative Var 0.237 0.453 0.657\n",
        "\n",
        "$score.cor\n",
        "          [,1]      [,2]      [,3]\n",
        "[1,] 1.0000000 0.6070132 0.4996774\n",
        "[2,] 0.6070132 1.0000000 0.6650307\n",
        "[3,] 0.4996774 0.6650307 1.0000000\n",
        "\n",
        "$TLI\n",
        "[1] 0.9839724\n",
        "\n",
        "$RMSEA\n",
        "     RMSEA      lower      upper confidence \n",
        "0.04523403 0.04284491 0.04764259 0.10000000 \n",
        "\n"
       ]
      }
     ],
     "prompt_number": 5
    },
    {
     "cell_type": "markdown",
     "metadata": {},
     "source": [
      "* Target rotation: choose \u201csimple structure\u201d a priori and can be applied to oblique and orthogonal rotation"
     ]
    },
    {
     "cell_type": "code",
     "collapsed": false,
     "input": [
      "%%R\n",
      "Targ_key <- make.keys(12,list(f1=1:4,f2=5:8,f3=9:12))\n",
      "Targ_key <- scrub(Targ_key,isvalue=1)  #fix the 0s, allow the NAs to be estimated\n",
      "Targ_key <- list(Targ_key)\n",
      "out_targetQ <- fa(pisa_efa,3,rotate=\"TargetQ\",Target=Targ_key, missing = TRUE) #TargetT for orthogonal rotation\n",
      "out_targetQ[c(\"loadings\", \"score.cor\")]"
     ],
     "language": "python",
     "metadata": {},
     "outputs": [
      {
       "output_type": "display_data",
       "text": [
        "Loading required namespace: GPArotation\n",
        "$loadings\n",
        "\n",
        "Loadings:\n",
        "        MR2    MR3    MR1   \n",
        "ST42Q02                0.837\n",
        "ST42Q04                0.774\n",
        "ST42Q06                0.823\n",
        "ST42Q07  0.179         0.732\n",
        "ST29Q01  0.735              \n",
        "ST29Q03  0.904              \n",
        "ST29Q04  0.951              \n",
        "ST29Q06  0.683  0.165       \n",
        "ST29Q02         0.801       \n",
        "ST29Q05         0.857       \n",
        "ST29Q07         0.831       \n",
        "ST29Q08         0.803       \n",
        "\n",
        "                 MR2   MR3   MR1\n",
        "SS loadings    2.780 2.756 2.527\n",
        "Proportion Var 0.232 0.230 0.211\n",
        "Cumulative Var 0.232 0.461 0.672\n",
        "\n",
        "$score.cor\n",
        "          [,1]      [,2]      [,3]\n",
        "[1,] 1.0000000 0.6070132 0.6650307\n",
        "[2,] 0.6070132 1.0000000 0.4996774\n",
        "[3,] 0.6650307 0.4996774 1.0000000\n",
        "\n"
       ]
      }
     ],
     "prompt_number": 6
    },
    {
     "cell_type": "markdown",
     "metadata": {},
     "source": [
      "*using correlation matrix  and missing data is handled by FIML"
     ]
    },
    {
     "cell_type": "code",
     "collapsed": false,
     "input": [
      "%%R\n",
      "pisa_cor <- corFiml(pisa_efa) # convert the raw data to correlation matrix uisng FIML\n",
      "unrotated <- fa(pisa_cor, 3, rotate=\"none\", n.obs = 14481)\n",
      "out_varimax <- fa(pisa_cor, 3, rotate=\"varimax\",n.obs = 14481)\n",
      "out_promax <- fa(pisa_cor, 3, rotate=\"promax\",n.obs = 14481)\n",
      "out_targetQ <- fa(pisa_cor,3,rotate=\"TargetQ\",n.obs = 14481,Target=Targ_key, missing = TRUE) #TargetT for orthogonal rotation"
     ],
     "language": "python",
     "metadata": {},
     "outputs": [],
     "prompt_number": 7
    }
   ],
   "metadata": {}
  }
 ]
}