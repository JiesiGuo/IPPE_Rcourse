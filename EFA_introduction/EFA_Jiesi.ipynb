{
 "metadata": {},
 "nbformat": 3,
 "nbformat_minor": 0,
 "worksheets": [
  {
   "cells": [
    {
     "cell_type": "code",
     "collapsed": false,
     "input": [
      "%load_ext rmagic"
     ],
     "language": "python",
     "metadata": {},
     "outputs": [],
     "prompt_number": 1
    },
    {
     "cell_type": "markdown",
     "metadata": {},
     "source": [
      "---\n",
      "title: \"EFA_Introduction\"\n",
      "output: html_document\n",
      "---\n",
      "\n",
      "## Exploratory Data Analysis (EFA)\n",
      "\n",
      "### \n",
      "\n",
      "* two types of rotation (orthogonal or oblique roatation) \n",
      "* orthogonal: e.g., _varimax_, _quartimax_, _bentlerT_, _equamax_, _varimin_, _geominT_, _bifactor_, _target_\n",
      "* oblique : e.g., _promax_, _oblimin_, _simplimax_, _bentlerQ, _geominQ_ and _biquartimin_ and _cluster_, _target_\n",
      "* the rotation does not alter the fit of the factor solution"
     ]
    },
    {
     "cell_type": "code",
     "collapsed": false,
     "input": [
      "%%R\n",
      "library(psych)\n",
      "library(dplyr)\n",
      "# data preparation\n",
      "pisa<-read.csv(\"PISA12-AUS-motivation.csv\")\n",
      "pisa_efa<-pisa %>% select (ST42Q02:ST29Q08) # select items measuring math self-concept, intrinsic value and utility value\n",
      "pisa_efa[,2:12] <- apply(pisa_efa[,2:12], 2, function(x) x<- 5-x) # reverse code for nagetively worded items (not necessary)"
     ],
     "language": "python",
     "metadata": {},
     "outputs": [
      {
       "output_type": "stream",
       "stream": "stdout",
       "text": [
        "\n",
        "Attaching package: \u2018dplyr\u2019\n",
        "\n",
        "The following object is masked from \u2018package:stats\u2019:\n",
        "\n",
        "    filter\n",
        "\n",
        "The following objects are masked from \u2018package:base\u2019:\n",
        "\n",
        "    intersect, setdiff, setequal, union\n",
        "\n",
        "Error in file(file, \"rt\") : cannot open the connection\n",
        "In addition: Warning message:\n",
        "In file(file, \"rt\") :\n",
        "  cannot open file 'PISA12-AUS-motivation.csv': No such file or directory\n",
        "Error in file(file, \"rt\") : cannot open the connection\n"
       ]
      }
     ],
     "prompt_number": 2
    },
    {
     "cell_type": "markdown",
     "metadata": {},
     "source": [
      "* start with unrotated EFA"
     ]
    },
    {
     "cell_type": "code",
     "collapsed": false,
     "input": [
      "%%R\n",
      "#using raw data and missing data is handled by pairwise (by default)\n",
      "unrotated <- fa(pisa_efa, 3, rotate=\"none\")\n",
      "unrotated[c(\"loadings\",\"score.cor\", \"TLI\", \"RMSEA\")]"
     ],
     "language": "python",
     "metadata": {},
     "outputs": [
      {
       "output_type": "stream",
       "stream": "stdout",
       "text": [
        "Error in fa(pisa_efa, 3, rotate = \"none\") : object 'pisa_efa' not found\n"
       ]
      }
     ],
     "prompt_number": 3
    },
    {
     "cell_type": "markdown",
     "metadata": {},
     "source": [
      "* orthogonal rotation: the factors are constrianed to be uncorrelated (i.e., factors are oriented at 90 degrees angle in multidimensional space)"
     ]
    },
    {
     "cell_type": "code",
     "collapsed": false,
     "input": [
      "%%R\n",
      "out_varimax <- fa(pisa_efa, 3, rotate=\"varimax\")\n",
      "out_varimax[c(\"loadings\", \"score.cor\", \"TLI\", \"RMSEA\")]"
     ],
     "language": "python",
     "metadata": {},
     "outputs": [
      {
       "output_type": "stream",
       "stream": "stdout",
       "text": [
        "Error in fa(pisa_efa, 3, rotate = \"varimax\") : \n",
        "  object 'pisa_efa' not found\n"
       ]
      }
     ],
     "prompt_number": 4
    },
    {
     "cell_type": "markdown",
     "metadata": {},
     "source": [
      "* oblique rotation: the factors are allowed to intercorrelated (i.e., permit factor axis orientations of less than 90 degrees)"
     ]
    },
    {
     "cell_type": "code",
     "collapsed": false,
     "input": [
      "%%R\n",
      "out_promax <- fa(pisa_efa, 3, rotate=\"promax\")\n",
      "out_promax[c(\"loadings\", \"score.cor\", \"TLI\", \"RMSEA\")]"
     ],
     "language": "python",
     "metadata": {},
     "outputs": [
      {
       "output_type": "stream",
       "stream": "stdout",
       "text": [
        "Error in fa(pisa_efa, 3, rotate = \"promax\") : object 'pisa_efa' not found\n"
       ]
      }
     ],
     "prompt_number": 5
    },
    {
     "cell_type": "markdown",
     "metadata": {},
     "source": [
      "* Target rotation: choose \u201csimple structure\u201d a priori and can be applied to oblique and orthogonal rotation"
     ]
    },
    {
     "cell_type": "code",
     "collapsed": false,
     "input": [
      "%%R\n",
      "Targ_key <- make.keys(12,list(f1=1:4,f2=5:8,f3=9:12))\n",
      "Targ_key <- scrub(Targ_key,isvalue=1)  #fix the 0s, allow the NAs to be estimated\n",
      "Targ_key <- list(Targ_key)\n",
      "out_targetQ <- fa(pisa_efa,3,rotate=\"TargetQ\",Target=Targ_key, missing = TRUE) #TargetT for orthogonal rotation\n",
      "out_targetQ[c(\"loadings\", \"score.cor\")]"
     ],
     "language": "python",
     "metadata": {},
     "outputs": [
      {
       "output_type": "stream",
       "stream": "stdout",
       "text": [
        "Error in fa(pisa_efa, 3, rotate = \"TargetQ\", Target = Targ_key, missing = TRUE) : \n",
        "  object 'pisa_efa' not found\n"
       ]
      }
     ],
     "prompt_number": 6
    },
    {
     "cell_type": "markdown",
     "metadata": {},
     "source": [
      "*using correlation matrix  and missing data is handled by FIML"
     ]
    },
    {
     "cell_type": "code",
     "collapsed": false,
     "input": [
      "%%R\n",
      "pisa_cor <- corFiml(pisa_efa) # convert the raw data to correlation matrix uisng FIML\n",
      "unrotated <- fa(pisa_cor, 3, rotate=\"none\", n.obs = 14481)\n",
      "out_varimax <- fa(pisa_cor, 3, rotate=\"varimax\",n.obs = 14481)\n",
      "out_promax <- fa(pisa_cor, 3, rotate=\"promax\",n.obs = 14481)\n",
      "out_targetQ <- fa(pisa_cor,3,rotate=\"TargetQ\",n.obs = 14481,Target=Targ_key) #TargetT for orthogonal rotation"
     ],
     "language": "python",
     "metadata": {},
     "outputs": [
      {
       "output_type": "stream",
       "stream": "stdout",
       "text": [
        "Error in corFiml(pisa_efa) : object 'pisa_efa' not found\n"
       ]
      }
     ],
     "prompt_number": 7
    }
   ],
   "metadata": {}
  }
 ]
}